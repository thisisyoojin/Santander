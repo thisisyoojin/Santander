{
 "cells": [
  {
   "cell_type": "markdown",
   "metadata": {},
   "source": [
    "# Santander Product Recommendation\n",
    "\n",
    "### Part 4. Predict\n",
    "\n",
    "Based on the fact we saw from evaluation, we proceed to build a LightGBM model to predict test data and submit the result to Kaggle.<br>"
   ]
  },
  {
   "cell_type": "code",
   "execution_count": 1,
   "metadata": {},
   "outputs": [],
   "source": [
    "import numpy as np\n",
    "import pandas as pd\n",
    "import pickle\n",
    "import lightgbm as lgbm"
   ]
  },
  {
   "cell_type": "code",
   "execution_count": 3,
   "metadata": {},
   "outputs": [],
   "source": [
    "with open('input/meta_data.pkl', 'rb') as fin:\n",
    "    meta = pickle.load(fin)\n",
    "\n",
    "features = meta['features']\n",
    "target = meta['target']\n",
    "prods = meta['prods']\n",
    "\n",
    "with open('input/processed_data.pkl', 'rb') as finn:\n",
    "    data = pickle.load(finn)\n",
    "\n",
    "#validation data\n",
    "trn = data['trn_all']\n",
    "tst = data['tst_all']\n",
    "\n",
    "del meta, data"
   ]
  },
  {
   "cell_type": "markdown",
   "metadata": {},
   "source": [
    "### 4-1.  Training with all data"
   ]
  },
  {
   "cell_type": "code",
   "execution_count": 8,
   "metadata": {},
   "outputs": [],
   "source": [
    "# Increase the tree number as the number of all data also increased\n",
    "len_vld = trn[trn['fecha_dato']<'2016-05-28'].shape[0] \n",
    "len_all = trn.shape[0]\n",
    "\n",
    "best_iteration = pickle.load(open(\"model/lgbm.model.meta\", \"rb\"))\n",
    "best_iteration = int(best_iteration * len_all / len_vld)"
   ]
  },
  {
   "cell_type": "code",
   "execution_count": 11,
   "metadata": {},
   "outputs": [],
   "source": [
    "# Convert data to fit in the LightGBM model\n",
    "dtrn = lgbm.Dataset(trn[features], label=trn['target'], feature_name=features)\n",
    "dtst = lgbm.Dataset(tst[features], feature_name=features)"
   ]
  },
  {
   "cell_type": "code",
   "execution_count": 12,
   "metadata": {},
   "outputs": [],
   "source": [
    "# Set up the parameter for the LightGBM model\n",
    "params_lgb = {\n",
    "    'task' : 'train',\n",
    "    'boosting_type' : 'gbdt',\n",
    "    'objective' : 'multiclass',\n",
    "    'num_class': 17,\n",
    "    'metric' : {'multi_logloss'},\n",
    "    'is_training_metric': True,\n",
    "    'max_bin': 255,\n",
    "    'num_leaves' : 64,\n",
    "    'learning_rate' : 0.1,\n",
    "    'feature_fraction' : 0.8,\n",
    "    'min_data_in_leaf': 10,\n",
    "    'min_sum_hessian_in_leaf': 5,\n",
    "}"
   ]
  },
  {
   "cell_type": "code",
   "execution_count": null,
   "metadata": {},
   "outputs": [],
   "source": [
    "# Train the model\n",
    "model = lgbm.train(params_lgb, dtrn, num_boost_round=best_iteration)\n",
    "model.save_model(\"lgbm.all.model.txt\")"
   ]
  },
  {
   "cell_type": "code",
   "execution_count": 15,
   "metadata": {},
   "outputs": [
    {
     "name": "stdout",
     "output_type": "stream",
     "text": [
      "Feature importance by split:\n",
      "('renta', 148843)\n",
      "('age', 123217)\n",
      "('antiguedad', 115031)\n",
      "('fecha_alta_month', 86955)\n",
      "('cod_prov', 71336)\n",
      "('renta_prev', 67276)\n",
      "('antiguedad_prev', 65075)\n",
      "('age_prev', 64294)\n",
      "('fecha_alta_year', 61312)\n",
      "('canal_entrada', 55138)\n",
      "('cod_prov_prev', 29179)\n",
      "('sexo', 20993)\n",
      "('canal_entrada_prev', 20213)\n",
      "('segmento', 16269)\n",
      "('ind_recibo_ult1_prev', 11540)\n",
      "('ind_ecue_fin_ult1_prev', 11381)\n",
      "('ind_cco_fin_ult1_prev', 11257)\n",
      "('tiprel_1mes', 9494)\n",
      "('ind_cno_fin_ult1_prev', 9432)\n",
      "('segmento_prev', 8594)\n",
      "('ind_reca_fin_ult1_prev', 8546)\n",
      "('ind_tjcr_fin_ult1_prev', 8476)\n",
      "('ind_actividad_cliente', 8229)\n",
      "('ind_ctop_fin_ult1_prev', 7317)\n",
      "('ind_dela_fin_ult1_prev', 6901)\n",
      "('ind_ctpp_fin_ult1_prev', 6019)\n",
      "('ind_nom_pens_ult1_prev', 5798)\n",
      "('ind_valo_fin_ult1_prev', 5352)\n",
      "('ind_nomina_ult1_prev', 5014)\n",
      "('indext', 4858)\n",
      "('sexo_prev', 4624)\n",
      "('ind_fond_fin_ult1_prev', 3907)\n",
      "('pais_residencia', 3897)\n",
      "('tiprel_1mes_prev', 3789)\n",
      "('ind_actividad_cliente_prev', 3322)\n",
      "('ind_plan_fin_ult1_prev', 3119)\n",
      "('ind_ctma_fin_ult1_prev', 2735)\n",
      "('ind_nuevo', 2703)\n",
      "('ind_hip_fin_ult1_prev', 1924)\n",
      "('indext_prev', 1770)\n",
      "('ind_deco_fin_ult1_prev', 1542)\n",
      "('ind_nuevo_prev', 1310)\n",
      "('ind_empleado', 1283)\n",
      "('indrel_1mes', 1152)\n",
      "('ind_viv_fin_ult1_prev', 1119)\n",
      "('pais_residencia_prev', 1062)\n",
      "('indrel_1mes_prev', 878)\n",
      "('ind_deme_fin_ult1_prev', 841)\n",
      "('indfall', 835)\n",
      "('ind_pres_fin_ult1_prev', 799)\n",
      "('indrel', 742)\n",
      "('ind_ctju_fin_ult1_prev', 525)\n",
      "('ind_empleado_prev', 458)\n",
      "('ind_cder_fin_ult1_prev', 437)\n",
      "('indresi', 428)\n",
      "('indfall_prev', 279)\n",
      "('indrel_prev', 165)\n",
      "('ind_ahor_fin_ult1_prev', 107)\n",
      "('indresi_prev', 93)\n",
      "('ind_aval_fin_ult1_prev', 91)\n",
      "Feature importance by gain:\n",
      "('age_prev', 24253092.371181227)\n",
      "('canal_entrada_prev', 4368169.948414574)\n",
      "('fecha_alta_year', 4109589.640336018)\n",
      "('antiguedad', 2654718.9804631914)\n",
      "('tiprel_1mes', 2632603.1558057065)\n",
      "('ind_actividad_cliente', 2095564.0535696195)\n",
      "('age', 1950702.88862655)\n",
      "('ind_cco_fin_ult1_prev', 1711391.067129247)\n",
      "('ind_cno_fin_ult1_prev', 1634910.1278338656)\n",
      "('ind_nom_pens_ult1_prev', 1268488.9004538506)\n",
      "('cod_prov_prev', 1197033.599165162)\n",
      "('ind_recibo_ult1_prev', 1142505.418349959)\n",
      "('canal_entrada', 988084.0402624162)\n",
      "('segmento', 844861.8338899952)\n",
      "('fecha_alta_month', 534033.2683666995)\n",
      "('antiguedad_prev', 478170.67483227)\n",
      "('renta', 475571.97716193966)\n",
      "('ind_nuevo', 367030.32251159707)\n",
      "('cod_prov', 334555.11885361886)\n",
      "('ind_tjcr_fin_ult1_prev', 285798.1681096703)\n",
      "('renta_prev', 256051.8634234476)\n",
      "('ind_nomina_ult1_prev', 231034.103772901)\n",
      "('ind_actividad_cliente_prev', 215303.8716694191)\n",
      "('ind_ecue_fin_ult1_prev', 198387.10942988843)\n",
      "('tiprel_1mes_prev', 158617.9999526441)\n",
      "('ind_ctma_fin_ult1_prev', 151888.94439175725)\n",
      "('ind_reca_fin_ult1_prev', 144882.94745024294)\n",
      "('ind_empleado_prev', 138432.984230116)\n",
      "('ind_dela_fin_ult1_prev', 123667.18322347105)\n",
      "('segmento_prev', 96144.17039517686)\n",
      "('sexo', 93735.53463352864)\n",
      "('sexo_prev', 79920.71466504224)\n",
      "('ind_ctop_fin_ult1_prev', 78719.2620806992)\n",
      "('indext', 64186.365542234154)\n",
      "('ind_deco_fin_ult1_prev', 61068.2871042341)\n",
      "('ind_ctpp_fin_ult1_prev', 57312.220255717635)\n",
      "('ind_valo_fin_ult1_prev', 41625.504345946014)\n",
      "('ind_nuevo_prev', 37953.119623333216)\n",
      "('ind_fond_fin_ult1_prev', 22018.00900889933)\n",
      "('ind_pres_fin_ult1_prev', 14898.177080363035)\n",
      "('ind_ctju_fin_ult1_prev', 14606.584990561008)\n",
      "('ind_plan_fin_ult1_prev', 13992.192405872047)\n",
      "('pais_residencia', 13364.02162528783)\n",
      "('indrel', 12698.354667837033)\n",
      "('ind_hip_fin_ult1_prev', 10908.7160365358)\n",
      "('indrel_1mes', 10061.585566843627)\n",
      "('indext_prev', 8796.923559889197)\n",
      "('indresi', 7849.480451276626)\n",
      "('indrel_1mes_prev', 7812.211076725274)\n",
      "('ind_empleado', 6043.274627731647)\n",
      "('indfall', 5789.021015010774)\n",
      "('ind_deme_fin_ult1_prev', 3893.0878761187196)\n",
      "('ind_viv_fin_ult1_prev', 3771.7998507469893)\n",
      "('pais_residencia_prev', 2651.3485424146056)\n",
      "('ind_cder_fin_ult1_prev', 1639.0717083960772)\n",
      "('indfall_prev', 926.930931262672)\n",
      "('indrel_prev', 766.0197195112705)\n",
      "('indresi_prev', 497.8702948987484)\n",
      "('ind_ahor_fin_ult1_prev', 387.1868439167738)\n",
      "('ind_aval_fin_ult1_prev', 291.8634639978409)\n"
     ]
    }
   ],
   "source": [
    "# Print out feature importance from the LightGBM model\n",
    "print(\"Feature importance by split:\")\n",
    "for kv in sorted([(k,v) for k,v in zip(features, model.feature_importance(\"split\"))], key=lambda kv: kv[1], reverse=True): \n",
    "    print(kv)\n",
    "\n",
    "print(\"Feature importance by gain:\")\n",
    "for kv in sorted([(k,v) for k,v in zip(features, model.feature_importance(\"gain\"))], key=lambda kv: kv[1], reverse=True):\n",
    "    print(kv)"
   ]
  },
  {
   "cell_type": "markdown",
   "metadata": {},
   "source": [
    "### 4-2. Submission"
   ]
  },
  {
   "cell_type": "code",
   "execution_count": 56,
   "metadata": {},
   "outputs": [],
   "source": [
    "# Prediction\n",
    "preds_tst = model.predict(tst[features], num_iteration=best_iteration)\n",
    "\n",
    "preds_tst_16 = np.delete(preds_tst, 16, axis=1)\n",
    "preds_tst_16 = preds_tst_16 - tst[[prod + '_prev' for prod in prods[target]]]"
   ]
  },
  {
   "cell_type": "code",
   "execution_count": 68,
   "metadata": {},
   "outputs": [],
   "source": [
    "# Create the submission file\n",
    "submit_file = open('model/lgbm_ensemble_predicton', 'w')\n",
    "submit_file.write('ncodpers,added_products\\n')\n",
    "\n",
    "\n",
    "ncodpers_tst = tst['ncodpers'].values\n",
    "\n",
    "for ncodper, pred in zip(ncodpers_tst, preds_tst_16.values):\n",
    "    y_prods = [(y,p,ip) for y,p,ip in zip(pred, prods[target], target)]\n",
    "    y_prods = sorted(y_prods, key=lambda a: a[0], reverse=True)[:7]\n",
    "    y_prods = [p for y,p,ip in y_prods]\n",
    "    \n",
    "    data = '{},{}\\n'.format(int(ncodper), ' '.join(y_prods))\n",
    "    submit_file.write(data)\n",
    "\n",
    "\n",
    "submit_file.close()"
   ]
  },
  {
   "cell_type": "markdown",
   "metadata": {},
   "source": [
    "### Result\n",
    "\n",
    "The prediction scored 0.02552 in Private and 0.02521 in Public."
   ]
  }
 ],
 "metadata": {
  "kernelspec": {
   "display_name": "Python 3",
   "language": "python",
   "name": "python3"
  },
  "language_info": {
   "codemirror_mode": {
    "name": "ipython",
    "version": 3
   },
   "file_extension": ".py",
   "mimetype": "text/x-python",
   "name": "python",
   "nbconvert_exporter": "python",
   "pygments_lexer": "ipython3",
   "version": "3.7.3"
  }
 },
 "nbformat": 4,
 "nbformat_minor": 2
}
